{
 "cells": [
  {
   "cell_type": "markdown",
   "metadata": {},
   "source": [
    "### Tourism Trends of the United Republic of Tanzania from 1995 to 2018\n",
    "\n"
   ]
  },
  {
   "cell_type": "code",
   "execution_count": null,
   "metadata": {},
   "outputs": [],
   "source": []
  },
  {
   "cell_type": "code",
   "execution_count": 79,
   "metadata": {},
   "outputs": [
    {
     "name": "stdout",
     "output_type": "stream",
     "text": [
      "Requirement already satisfied: quandl in /opt/anaconda3/lib/python3.8/site-packages (3.5.2)\n",
      "Requirement already satisfied: numpy>=1.8 in /opt/anaconda3/lib/python3.8/site-packages (from quandl) (1.18.5)\n",
      "Requirement already satisfied: inflection>=0.3.1 in /opt/anaconda3/lib/python3.8/site-packages (from quandl) (0.5.1)\n",
      "Requirement already satisfied: requests>=2.7.0 in /opt/anaconda3/lib/python3.8/site-packages (from quandl) (2.24.0)\n",
      "Requirement already satisfied: more-itertools in /opt/anaconda3/lib/python3.8/site-packages (from quandl) (8.4.0)\n",
      "Requirement already satisfied: python-dateutil in /opt/anaconda3/lib/python3.8/site-packages (from quandl) (2.8.1)\n",
      "Requirement already satisfied: six in /opt/anaconda3/lib/python3.8/site-packages (from quandl) (1.15.0)\n",
      "Requirement already satisfied: pandas>=0.14 in /opt/anaconda3/lib/python3.8/site-packages (from quandl) (1.0.5)\n",
      "Requirement already satisfied: chardet<4,>=3.0.2 in /opt/anaconda3/lib/python3.8/site-packages (from requests>=2.7.0->quandl) (3.0.4)\n",
      "Requirement already satisfied: idna<3,>=2.5 in /opt/anaconda3/lib/python3.8/site-packages (from requests>=2.7.0->quandl) (2.10)\n",
      "Requirement already satisfied: certifi>=2017.4.17 in /opt/anaconda3/lib/python3.8/site-packages (from requests>=2.7.0->quandl) (2020.6.20)\n",
      "Requirement already satisfied: urllib3!=1.25.0,!=1.25.1,<1.26,>=1.21.1 in /opt/anaconda3/lib/python3.8/site-packages (from requests>=2.7.0->quandl) (1.25.9)\n",
      "Requirement already satisfied: pytz>=2017.2 in /opt/anaconda3/lib/python3.8/site-packages (from pandas>=0.14->quandl) (2020.1)\n",
      "Note: you may need to restart the kernel to use updated packages.\n"
     ]
    }
   ],
   "source": [
    "pip install quandl"
   ]
  },
  {
   "cell_type": "code",
   "execution_count": 80,
   "metadata": {},
   "outputs": [],
   "source": [
    "import quandl as ql\n",
    "import numpy as np\n",
    "import pandas as pd\n",
    "import matplotlib.pylab as plt"
   ]
  },
  {
   "cell_type": "code",
   "execution_count": 81,
   "metadata": {},
   "outputs": [],
   "source": [
    "data = ql.get(\"UTOR/TOR_TZA\", authtoken=\"-K72dVjJWtM7ztFbz-95\")"
   ]
  },
  {
   "cell_type": "code",
   "execution_count": 82,
   "metadata": {},
   "outputs": [
    {
     "data": {
      "text/html": [
       "<div>\n",
       "<style scoped>\n",
       "    .dataframe tbody tr th:only-of-type {\n",
       "        vertical-align: middle;\n",
       "    }\n",
       "\n",
       "    .dataframe tbody tr th {\n",
       "        vertical-align: top;\n",
       "    }\n",
       "\n",
       "    .dataframe thead th {\n",
       "        text-align: right;\n",
       "    }\n",
       "</style>\n",
       "<table border=\"1\" class=\"dataframe\">\n",
       "  <thead>\n",
       "    <tr style=\"text-align: right;\">\n",
       "      <th></th>\n",
       "      <th>Inbound: Arrivals - Thousands (TF)</th>\n",
       "      <th>Inbound: Tourism expenditure in the country - US$ Mn (IMF)</th>\n",
       "      <th>Inbound: Travel - US$ Mn (IMF)</th>\n",
       "      <th>Inbound: Passenger transport - US$ Mn (IMF)</th>\n",
       "      <th>Outbound: Departures - Thousands (TF)</th>\n",
       "      <th>Outbound: Tourism expenditure in other countries - US$ Mn (IMF)</th>\n",
       "      <th>Outbound: Travel - US$ Mn (IMF)</th>\n",
       "      <th>Outbound: Passenger transport - US$ Mn (IMF)</th>\n",
       "    </tr>\n",
       "    <tr>\n",
       "      <th>Date</th>\n",
       "      <th></th>\n",
       "      <th></th>\n",
       "      <th></th>\n",
       "      <th></th>\n",
       "      <th></th>\n",
       "      <th></th>\n",
       "      <th></th>\n",
       "      <th></th>\n",
       "    </tr>\n",
       "  </thead>\n",
       "  <tbody>\n",
       "    <tr>\n",
       "      <th>1995-12-31</th>\n",
       "      <td>285.0</td>\n",
       "      <td>NaN</td>\n",
       "      <td>502.0</td>\n",
       "      <td>NaN</td>\n",
       "      <td>157.0</td>\n",
       "      <td>NaN</td>\n",
       "      <td>360.0</td>\n",
       "      <td>NaN</td>\n",
       "    </tr>\n",
       "    <tr>\n",
       "      <th>1996-12-31</th>\n",
       "      <td>315.0</td>\n",
       "      <td>NaN</td>\n",
       "      <td>473.0</td>\n",
       "      <td>NaN</td>\n",
       "      <td>148.0</td>\n",
       "      <td>NaN</td>\n",
       "      <td>412.0</td>\n",
       "      <td>NaN</td>\n",
       "    </tr>\n",
       "    <tr>\n",
       "      <th>1997-12-31</th>\n",
       "      <td>347.0</td>\n",
       "      <td>343.0</td>\n",
       "      <td>339.0</td>\n",
       "      <td>4.0</td>\n",
       "      <td>NaN</td>\n",
       "      <td>424.0</td>\n",
       "      <td>407.0</td>\n",
       "      <td>17.0</td>\n",
       "    </tr>\n",
       "    <tr>\n",
       "      <th>1998-12-31</th>\n",
       "      <td>450.0</td>\n",
       "      <td>404.0</td>\n",
       "      <td>399.0</td>\n",
       "      <td>5.0</td>\n",
       "      <td>NaN</td>\n",
       "      <td>521.0</td>\n",
       "      <td>493.0</td>\n",
       "      <td>28.0</td>\n",
       "    </tr>\n",
       "    <tr>\n",
       "      <th>1999-12-31</th>\n",
       "      <td>564.0</td>\n",
       "      <td>467.0</td>\n",
       "      <td>464.0</td>\n",
       "      <td>3.0</td>\n",
       "      <td>NaN</td>\n",
       "      <td>403.0</td>\n",
       "      <td>370.0</td>\n",
       "      <td>33.0</td>\n",
       "    </tr>\n",
       "  </tbody>\n",
       "</table>\n",
       "</div>"
      ],
      "text/plain": [
       "            Inbound: Arrivals - Thousands (TF)  \\\n",
       "Date                                             \n",
       "1995-12-31                               285.0   \n",
       "1996-12-31                               315.0   \n",
       "1997-12-31                               347.0   \n",
       "1998-12-31                               450.0   \n",
       "1999-12-31                               564.0   \n",
       "\n",
       "            Inbound: Tourism expenditure in the country - US$ Mn (IMF)  \\\n",
       "Date                                                                     \n",
       "1995-12-31                                                NaN            \n",
       "1996-12-31                                                NaN            \n",
       "1997-12-31                                              343.0            \n",
       "1998-12-31                                              404.0            \n",
       "1999-12-31                                              467.0            \n",
       "\n",
       "            Inbound: Travel - US$ Mn (IMF)  \\\n",
       "Date                                         \n",
       "1995-12-31                           502.0   \n",
       "1996-12-31                           473.0   \n",
       "1997-12-31                           339.0   \n",
       "1998-12-31                           399.0   \n",
       "1999-12-31                           464.0   \n",
       "\n",
       "            Inbound: Passenger transport - US$ Mn (IMF)  \\\n",
       "Date                                                      \n",
       "1995-12-31                                          NaN   \n",
       "1996-12-31                                          NaN   \n",
       "1997-12-31                                          4.0   \n",
       "1998-12-31                                          5.0   \n",
       "1999-12-31                                          3.0   \n",
       "\n",
       "            Outbound: Departures - Thousands (TF)  \\\n",
       "Date                                                \n",
       "1995-12-31                                  157.0   \n",
       "1996-12-31                                  148.0   \n",
       "1997-12-31                                    NaN   \n",
       "1998-12-31                                    NaN   \n",
       "1999-12-31                                    NaN   \n",
       "\n",
       "            Outbound: Tourism expenditure in other countries - US$ Mn (IMF)  \\\n",
       "Date                                                                          \n",
       "1995-12-31                                                NaN                 \n",
       "1996-12-31                                                NaN                 \n",
       "1997-12-31                                              424.0                 \n",
       "1998-12-31                                              521.0                 \n",
       "1999-12-31                                              403.0                 \n",
       "\n",
       "            Outbound: Travel - US$ Mn (IMF)  \\\n",
       "Date                                          \n",
       "1995-12-31                            360.0   \n",
       "1996-12-31                            412.0   \n",
       "1997-12-31                            407.0   \n",
       "1998-12-31                            493.0   \n",
       "1999-12-31                            370.0   \n",
       "\n",
       "            Outbound: Passenger transport - US$ Mn (IMF)  \n",
       "Date                                                      \n",
       "1995-12-31                                           NaN  \n",
       "1996-12-31                                           NaN  \n",
       "1997-12-31                                          17.0  \n",
       "1998-12-31                                          28.0  \n",
       "1999-12-31                                          33.0  "
      ]
     },
     "execution_count": 82,
     "metadata": {},
     "output_type": "execute_result"
    }
   ],
   "source": [
    "data.head()"
   ]
  },
  {
   "cell_type": "code",
   "execution_count": 83,
   "metadata": {},
   "outputs": [
    {
     "data": {
      "text/plain": [
       "Index(['Inbound: Arrivals - Thousands (TF)',\n",
       "       'Inbound: Tourism expenditure in the country - US$ Mn (IMF)',\n",
       "       'Inbound: Travel - US$ Mn (IMF)',\n",
       "       'Inbound: Passenger transport - US$ Mn (IMF)',\n",
       "       'Outbound: Departures - Thousands (TF)',\n",
       "       'Outbound: Tourism expenditure in other countries - US$ Mn (IMF)',\n",
       "       'Outbound: Travel - US$ Mn (IMF)',\n",
       "       'Outbound: Passenger transport - US$ Mn (IMF)'],\n",
       "      dtype='object')"
      ]
     },
     "execution_count": 83,
     "metadata": {},
     "output_type": "execute_result"
    }
   ],
   "source": [
    "data.columns"
   ]
  },
  {
   "cell_type": "code",
   "execution_count": 84,
   "metadata": {},
   "outputs": [],
   "source": [
    "#year = data.index\n",
    "#year"
   ]
  },
  {
   "cell_type": "code",
   "execution_count": 85,
   "metadata": {},
   "outputs": [
    {
     "data": {
      "text/plain": [
       "(24, 8)"
      ]
     },
     "execution_count": 85,
     "metadata": {},
     "output_type": "execute_result"
    }
   ],
   "source": [
    "data.shape"
   ]
  },
  {
   "cell_type": "code",
   "execution_count": 96,
   "metadata": {},
   "outputs": [],
   "source": [
    "year = np.arange(1995,2019)\n",
    "data['year'] = year\n",
    "#data.head()"
   ]
  },
  {
   "cell_type": "code",
   "execution_count": 97,
   "metadata": {
    "scrolled": true
   },
   "outputs": [],
   "source": [
    "#plt.plot(year, data['Inbound: Arrivals - Thousands (TF)'])"
   ]
  },
  {
   "cell_type": "code",
   "execution_count": 98,
   "metadata": {},
   "outputs": [],
   "source": [
    "#arrival_departure = data[['Inbound: Arrivals - Thousands (TF)','Outbound: Departures - Thousands (TF)']]\n",
    "#plt.plot(year, data['Outbound: Departures - Thousands (TF)'])"
   ]
  },
  {
   "cell_type": "code",
   "execution_count": 99,
   "metadata": {},
   "outputs": [
    {
     "data": {
      "text/html": [
       "<div>\n",
       "<style scoped>\n",
       "    .dataframe tbody tr th:only-of-type {\n",
       "        vertical-align: middle;\n",
       "    }\n",
       "\n",
       "    .dataframe tbody tr th {\n",
       "        vertical-align: top;\n",
       "    }\n",
       "\n",
       "    .dataframe thead th {\n",
       "        text-align: right;\n",
       "    }\n",
       "</style>\n",
       "<table border=\"1\" class=\"dataframe\">\n",
       "  <thead>\n",
       "    <tr style=\"text-align: right;\">\n",
       "      <th></th>\n",
       "      <th>Inbound: Travel - US$ Mn (IMF)</th>\n",
       "      <th>Outbound: Travel - US$ Mn (IMF)</th>\n",
       "    </tr>\n",
       "    <tr>\n",
       "      <th>Date</th>\n",
       "      <th></th>\n",
       "      <th></th>\n",
       "    </tr>\n",
       "  </thead>\n",
       "  <tbody>\n",
       "    <tr>\n",
       "      <th>1995-12-31</th>\n",
       "      <td>502.0</td>\n",
       "      <td>360.0</td>\n",
       "    </tr>\n",
       "    <tr>\n",
       "      <th>1996-12-31</th>\n",
       "      <td>473.0</td>\n",
       "      <td>412.0</td>\n",
       "    </tr>\n",
       "    <tr>\n",
       "      <th>1997-12-31</th>\n",
       "      <td>339.0</td>\n",
       "      <td>407.0</td>\n",
       "    </tr>\n",
       "    <tr>\n",
       "      <th>1998-12-31</th>\n",
       "      <td>399.0</td>\n",
       "      <td>493.0</td>\n",
       "    </tr>\n",
       "    <tr>\n",
       "      <th>1999-12-31</th>\n",
       "      <td>464.0</td>\n",
       "      <td>370.0</td>\n",
       "    </tr>\n",
       "    <tr>\n",
       "      <th>2000-12-31</th>\n",
       "      <td>377.0</td>\n",
       "      <td>337.0</td>\n",
       "    </tr>\n",
       "    <tr>\n",
       "      <th>2001-12-31</th>\n",
       "      <td>615.0</td>\n",
       "      <td>327.0</td>\n",
       "    </tr>\n",
       "    <tr>\n",
       "      <th>2002-12-31</th>\n",
       "      <td>635.0</td>\n",
       "      <td>337.0</td>\n",
       "    </tr>\n",
       "    <tr>\n",
       "      <th>2003-12-31</th>\n",
       "      <td>647.0</td>\n",
       "      <td>353.0</td>\n",
       "    </tr>\n",
       "    <tr>\n",
       "      <th>2004-12-31</th>\n",
       "      <td>746.0</td>\n",
       "      <td>445.0</td>\n",
       "    </tr>\n",
       "    <tr>\n",
       "      <th>2005-12-31</th>\n",
       "      <td>824.0</td>\n",
       "      <td>554.0</td>\n",
       "    </tr>\n",
       "    <tr>\n",
       "      <th>2006-12-31</th>\n",
       "      <td>950.0</td>\n",
       "      <td>534.0</td>\n",
       "    </tr>\n",
       "    <tr>\n",
       "      <th>2007-12-31</th>\n",
       "      <td>1199.0</td>\n",
       "      <td>595.0</td>\n",
       "    </tr>\n",
       "    <tr>\n",
       "      <th>2008-12-31</th>\n",
       "      <td>1289.0</td>\n",
       "      <td>721.0</td>\n",
       "    </tr>\n",
       "    <tr>\n",
       "      <th>2009-12-31</th>\n",
       "      <td>1160.0</td>\n",
       "      <td>766.0</td>\n",
       "    </tr>\n",
       "    <tr>\n",
       "      <th>2010-12-31</th>\n",
       "      <td>1255.0</td>\n",
       "      <td>830.0</td>\n",
       "    </tr>\n",
       "    <tr>\n",
       "      <th>2011-12-31</th>\n",
       "      <td>1353.0</td>\n",
       "      <td>899.0</td>\n",
       "    </tr>\n",
       "    <tr>\n",
       "      <th>2012-12-31</th>\n",
       "      <td>1713.0</td>\n",
       "      <td>967.0</td>\n",
       "    </tr>\n",
       "    <tr>\n",
       "      <th>2013-12-31</th>\n",
       "      <td>1880.0</td>\n",
       "      <td>1034.0</td>\n",
       "    </tr>\n",
       "    <tr>\n",
       "      <th>2014-12-31</th>\n",
       "      <td>2010.0</td>\n",
       "      <td>1102.0</td>\n",
       "    </tr>\n",
       "    <tr>\n",
       "      <th>2015-12-31</th>\n",
       "      <td>1902.0</td>\n",
       "      <td>1195.0</td>\n",
       "    </tr>\n",
       "    <tr>\n",
       "      <th>2016-12-31</th>\n",
       "      <td>2132.0</td>\n",
       "      <td>922.0</td>\n",
       "    </tr>\n",
       "    <tr>\n",
       "      <th>2017-12-31</th>\n",
       "      <td>2250.0</td>\n",
       "      <td>807.0</td>\n",
       "    </tr>\n",
       "    <tr>\n",
       "      <th>2018-12-31</th>\n",
       "      <td>2449.0</td>\n",
       "      <td>738.0</td>\n",
       "    </tr>\n",
       "  </tbody>\n",
       "</table>\n",
       "</div>"
      ],
      "text/plain": [
       "            Inbound: Travel - US$ Mn (IMF)  Outbound: Travel - US$ Mn (IMF)\n",
       "Date                                                                       \n",
       "1995-12-31                           502.0                            360.0\n",
       "1996-12-31                           473.0                            412.0\n",
       "1997-12-31                           339.0                            407.0\n",
       "1998-12-31                           399.0                            493.0\n",
       "1999-12-31                           464.0                            370.0\n",
       "2000-12-31                           377.0                            337.0\n",
       "2001-12-31                           615.0                            327.0\n",
       "2002-12-31                           635.0                            337.0\n",
       "2003-12-31                           647.0                            353.0\n",
       "2004-12-31                           746.0                            445.0\n",
       "2005-12-31                           824.0                            554.0\n",
       "2006-12-31                           950.0                            534.0\n",
       "2007-12-31                          1199.0                            595.0\n",
       "2008-12-31                          1289.0                            721.0\n",
       "2009-12-31                          1160.0                            766.0\n",
       "2010-12-31                          1255.0                            830.0\n",
       "2011-12-31                          1353.0                            899.0\n",
       "2012-12-31                          1713.0                            967.0\n",
       "2013-12-31                          1880.0                           1034.0\n",
       "2014-12-31                          2010.0                           1102.0\n",
       "2015-12-31                          1902.0                           1195.0\n",
       "2016-12-31                          2132.0                            922.0\n",
       "2017-12-31                          2250.0                            807.0\n",
       "2018-12-31                          2449.0                            738.0"
      ]
     },
     "execution_count": 99,
     "metadata": {},
     "output_type": "execute_result"
    }
   ],
   "source": [
    "data[['Inbound: Travel - US$ Mn (IMF)','Outbound: Travel - US$ Mn (IMF)']]"
   ]
  },
  {
   "cell_type": "code",
   "execution_count": 100,
   "metadata": {},
   "outputs": [
    {
     "data": {
      "text/plain": [
       "<matplotlib.legend.Legend at 0x7fa67b4aa460>"
      ]
     },
     "execution_count": 100,
     "metadata": {},
     "output_type": "execute_result"
    },
    {
     "data": {
      "image/png": "[encoded data removed]",
      "text/plain": [
       "<Figure size 1440x720 with 1 Axes>"
      ]
     },
     "metadata": {
      "needs_background": "light"
     },
     "output_type": "display_data"
    }
   ],
   "source": [
    "fig = plt.figure(figsize=(20,10))\n",
    "ax1 = fig.add_subplot(111)\n",
    "ax1.plot(data['year'], data['Inbound: Travel - US$ Mn (IMF)'], marker='', color='blue', linewidth=4, label='Inbound')\n",
    "ax1.plot(data['year'], data['Outbound: Travel - US$ Mn (IMF)'], marker='', color='red', linewidth=4, label='Outbound')\n",
    "ax1.set_xticks(data['year'])\n",
    "plt.title('Inbound-Outbound Travels')\n",
    "plt.xlabel('Year')\n",
    "plt.ylabel('US$')\n",
    "plt.legend()"
   ]
  },
  {
   "cell_type": "code",
   "execution_count": null,
   "metadata": {},
   "outputs": [],
   "source": []
  },
  {
   "cell_type": "code",
   "execution_count": null,
   "metadata": {},
   "outputs": [],
   "source": []
  }
 ],
 "metadata": {
  "kernelspec": {
   "display_name": "Python 3",
   "language": "python",
   "name": "python3"
  },
  "language_info": {
   "codemirror_mode": {
    "name": "ipython",
    "version": 3
   },
   "file_extension": ".py",
   "mimetype": "text/x-python",
   "name": "python",
   "nbconvert_exporter": "python",
   "pygments_lexer": "ipython3",
   "version": "3.8.3"
  }
 },
 "nbformat": 4,
 "nbformat_minor": 4
}
