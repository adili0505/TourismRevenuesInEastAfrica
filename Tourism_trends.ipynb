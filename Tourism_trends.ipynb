{
 "cells": [
  {
   "cell_type": "code",
   "execution_count": 1,
   "metadata": {},
   "outputs": [
    {
     "name": "stdout",
     "output_type": "stream",
     "text": [
      "Requirement already satisfied: quandl in /opt/anaconda3/lib/python3.8/site-packages (3.5.2)\n",
      "Requirement already satisfied: requests>=2.7.0 in /opt/anaconda3/lib/python3.8/site-packages (from quandl) (2.24.0)\n",
      "Requirement already satisfied: six in /opt/anaconda3/lib/python3.8/site-packages (from quandl) (1.15.0)\n",
      "Requirement already satisfied: inflection>=0.3.1 in /opt/anaconda3/lib/python3.8/site-packages (from quandl) (0.5.1)\n",
      "Requirement already satisfied: more-itertools in /opt/anaconda3/lib/python3.8/site-packages (from quandl) (8.4.0)\n",
      "Requirement already satisfied: pandas>=0.14 in /opt/anaconda3/lib/python3.8/site-packages (from quandl) (1.0.5)\n",
      "Requirement already satisfied: numpy>=1.8 in /opt/anaconda3/lib/python3.8/site-packages (from quandl) (1.18.5)\n",
      "Requirement already satisfied: python-dateutil in /opt/anaconda3/lib/python3.8/site-packages (from quandl) (2.8.1)\n",
      "Requirement already satisfied: chardet<4,>=3.0.2 in /opt/anaconda3/lib/python3.8/site-packages (from requests>=2.7.0->quandl) (3.0.4)\n",
      "Requirement already satisfied: urllib3!=1.25.0,!=1.25.1,<1.26,>=1.21.1 in /opt/anaconda3/lib/python3.8/site-packages (from requests>=2.7.0->quandl) (1.25.9)\n",
      "Requirement already satisfied: idna<3,>=2.5 in /opt/anaconda3/lib/python3.8/site-packages (from requests>=2.7.0->quandl) (2.10)\n",
      "Requirement already satisfied: certifi>=2017.4.17 in /opt/anaconda3/lib/python3.8/site-packages (from requests>=2.7.0->quandl) (2020.6.20)\n",
      "Requirement already satisfied: pytz>=2017.2 in /opt/anaconda3/lib/python3.8/site-packages (from pandas>=0.14->quandl) (2020.1)\n",
      "Note: you may need to restart the kernel to use updated packages.\n"
     ]
    }
   ],
   "source": [
    "pip install quandl"
   ]
  },
  {
   "cell_type": "code",
   "execution_count": 26,
   "metadata": {},
   "outputs": [],
   "source": [
    "import quandl as ql\n",
    "import numpy as np\n",
    "import pandas as pd\n",
    "import matplotlib.pylab as plt"
   ]
  },
  {
   "cell_type": "code",
   "execution_count": 17,
   "metadata": {},
   "outputs": [],
   "source": [
    "data = ql.get(\"UTOR/TOR_TZA\", authtoken=\"-K72dVjJWtM7ztFbz-95\")"
   ]
  },
  {
   "cell_type": "code",
   "execution_count": 18,
   "metadata": {},
   "outputs": [
    {
     "data": {
      "text/html": [
       "<div>\n",
       "<style scoped>\n",
       "    .dataframe tbody tr th:only-of-type {\n",
       "        vertical-align: middle;\n",
       "    }\n",
       "\n",
       "    .dataframe tbody tr th {\n",
       "        vertical-align: top;\n",
       "    }\n",
       "\n",
       "    .dataframe thead th {\n",
       "        text-align: right;\n",
       "    }\n",
       "</style>\n",
       "<table border=\"1\" class=\"dataframe\">\n",
       "  <thead>\n",
       "    <tr style=\"text-align: right;\">\n",
       "      <th></th>\n",
       "      <th>Inbound: Arrivals - Thousands (TF)</th>\n",
       "      <th>Inbound: Tourism expenditure in the country - US$ Mn (IMF)</th>\n",
       "      <th>Inbound: Travel - US$ Mn (IMF)</th>\n",
       "      <th>Inbound: Passenger transport - US$ Mn (IMF)</th>\n",
       "      <th>Outbound: Departures - Thousands (TF)</th>\n",
       "      <th>Outbound: Tourism expenditure in other countries - US$ Mn (IMF)</th>\n",
       "      <th>Outbound: Travel - US$ Mn (IMF)</th>\n",
       "      <th>Outbound: Passenger transport - US$ Mn (IMF)</th>\n",
       "    </tr>\n",
       "    <tr>\n",
       "      <th>Date</th>\n",
       "      <th></th>\n",
       "      <th></th>\n",
       "      <th></th>\n",
       "      <th></th>\n",
       "      <th></th>\n",
       "      <th></th>\n",
       "      <th></th>\n",
       "      <th></th>\n",
       "    </tr>\n",
       "  </thead>\n",
       "  <tbody>\n",
       "    <tr>\n",
       "      <th>1995-12-31</th>\n",
       "      <td>285.0</td>\n",
       "      <td>NaN</td>\n",
       "      <td>502.0</td>\n",
       "      <td>NaN</td>\n",
       "      <td>157.0</td>\n",
       "      <td>NaN</td>\n",
       "      <td>360.0</td>\n",
       "      <td>NaN</td>\n",
       "    </tr>\n",
       "    <tr>\n",
       "      <th>1996-12-31</th>\n",
       "      <td>315.0</td>\n",
       "      <td>NaN</td>\n",
       "      <td>473.0</td>\n",
       "      <td>NaN</td>\n",
       "      <td>148.0</td>\n",
       "      <td>NaN</td>\n",
       "      <td>412.0</td>\n",
       "      <td>NaN</td>\n",
       "    </tr>\n",
       "    <tr>\n",
       "      <th>1997-12-31</th>\n",
       "      <td>347.0</td>\n",
       "      <td>343.0</td>\n",
       "      <td>339.0</td>\n",
       "      <td>4.0</td>\n",
       "      <td>NaN</td>\n",
       "      <td>424.0</td>\n",
       "      <td>407.0</td>\n",
       "      <td>17.0</td>\n",
       "    </tr>\n",
       "    <tr>\n",
       "      <th>1998-12-31</th>\n",
       "      <td>450.0</td>\n",
       "      <td>404.0</td>\n",
       "      <td>399.0</td>\n",
       "      <td>5.0</td>\n",
       "      <td>NaN</td>\n",
       "      <td>521.0</td>\n",
       "      <td>493.0</td>\n",
       "      <td>28.0</td>\n",
       "    </tr>\n",
       "    <tr>\n",
       "      <th>1999-12-31</th>\n",
       "      <td>564.0</td>\n",
       "      <td>467.0</td>\n",
       "      <td>464.0</td>\n",
       "      <td>3.0</td>\n",
       "      <td>NaN</td>\n",
       "      <td>403.0</td>\n",
       "      <td>370.0</td>\n",
       "      <td>33.0</td>\n",
       "    </tr>\n",
       "  </tbody>\n",
       "</table>\n",
       "</div>"
      ],
      "text/plain": [
       "            Inbound: Arrivals - Thousands (TF)  \\\n",
       "Date                                             \n",
       "1995-12-31                               285.0   \n",
       "1996-12-31                               315.0   \n",
       "1997-12-31                               347.0   \n",
       "1998-12-31                               450.0   \n",
       "1999-12-31                               564.0   \n",
       "\n",
       "            Inbound: Tourism expenditure in the country - US$ Mn (IMF)  \\\n",
       "Date                                                                     \n",
       "1995-12-31                                                NaN            \n",
       "1996-12-31                                                NaN            \n",
       "1997-12-31                                              343.0            \n",
       "1998-12-31                                              404.0            \n",
       "1999-12-31                                              467.0            \n",
       "\n",
       "            Inbound: Travel - US$ Mn (IMF)  \\\n",
       "Date                                         \n",
       "1995-12-31                           502.0   \n",
       "1996-12-31                           473.0   \n",
       "1997-12-31                           339.0   \n",
       "1998-12-31                           399.0   \n",
       "1999-12-31                           464.0   \n",
       "\n",
       "            Inbound: Passenger transport - US$ Mn (IMF)  \\\n",
       "Date                                                      \n",
       "1995-12-31                                          NaN   \n",
       "1996-12-31                                          NaN   \n",
       "1997-12-31                                          4.0   \n",
       "1998-12-31                                          5.0   \n",
       "1999-12-31                                          3.0   \n",
       "\n",
       "            Outbound: Departures - Thousands (TF)  \\\n",
       "Date                                                \n",
       "1995-12-31                                  157.0   \n",
       "1996-12-31                                  148.0   \n",
       "1997-12-31                                    NaN   \n",
       "1998-12-31                                    NaN   \n",
       "1999-12-31                                    NaN   \n",
       "\n",
       "            Outbound: Tourism expenditure in other countries - US$ Mn (IMF)  \\\n",
       "Date                                                                          \n",
       "1995-12-31                                                NaN                 \n",
       "1996-12-31                                                NaN                 \n",
       "1997-12-31                                              424.0                 \n",
       "1998-12-31                                              521.0                 \n",
       "1999-12-31                                              403.0                 \n",
       "\n",
       "            Outbound: Travel - US$ Mn (IMF)  \\\n",
       "Date                                          \n",
       "1995-12-31                            360.0   \n",
       "1996-12-31                            412.0   \n",
       "1997-12-31                            407.0   \n",
       "1998-12-31                            493.0   \n",
       "1999-12-31                            370.0   \n",
       "\n",
       "            Outbound: Passenger transport - US$ Mn (IMF)  \n",
       "Date                                                      \n",
       "1995-12-31                                           NaN  \n",
       "1996-12-31                                           NaN  \n",
       "1997-12-31                                          17.0  \n",
       "1998-12-31                                          28.0  \n",
       "1999-12-31                                          33.0  "
      ]
     },
     "execution_count": 18,
     "metadata": {},
     "output_type": "execute_result"
    }
   ],
   "source": [
    "data.head()"
   ]
  },
  {
   "cell_type": "code",
   "execution_count": 19,
   "metadata": {},
   "outputs": [
    {
     "data": {
      "text/plain": [
       "Index(['Inbound: Arrivals - Thousands (TF)',\n",
       "       'Inbound: Tourism expenditure in the country - US$ Mn (IMF)',\n",
       "       'Inbound: Travel - US$ Mn (IMF)',\n",
       "       'Inbound: Passenger transport - US$ Mn (IMF)',\n",
       "       'Outbound: Departures - Thousands (TF)',\n",
       "       'Outbound: Tourism expenditure in other countries - US$ Mn (IMF)',\n",
       "       'Outbound: Travel - US$ Mn (IMF)',\n",
       "       'Outbound: Passenger transport - US$ Mn (IMF)'],\n",
       "      dtype='object')"
      ]
     },
     "execution_count": 19,
     "metadata": {},
     "output_type": "execute_result"
    }
   ],
   "source": [
    "data.columns"
   ]
  },
  {
   "cell_type": "code",
   "execution_count": 20,
   "metadata": {},
   "outputs": [
    {
     "data": {
      "text/plain": [
       "(24, 8)"
      ]
     },
     "execution_count": 20,
     "metadata": {},
     "output_type": "execute_result"
    }
   ],
   "source": [
    "data.shape"
   ]
  },
  {
   "cell_type": "code",
   "execution_count": 21,
   "metadata": {},
   "outputs": [
    {
     "data": {
      "text/plain": [
       "Date\n",
       "1995-12-31     285.0\n",
       "1996-12-31     315.0\n",
       "1997-12-31     347.0\n",
       "1998-12-31     450.0\n",
       "1999-12-31     564.0\n",
       "2000-12-31     459.0\n",
       "2001-12-31     501.0\n",
       "2002-12-31     550.0\n",
       "2003-12-31     552.0\n",
       "2004-12-31     566.0\n",
       "2005-12-31     590.0\n",
       "2006-12-31     622.0\n",
       "2007-12-31     692.0\n",
       "2008-12-31     750.0\n",
       "2009-12-31     695.0\n",
       "2010-12-31     754.0\n",
       "2011-12-31     843.0\n",
       "2012-12-31    1043.0\n",
       "2013-12-31    1063.0\n",
       "2014-12-31    1113.0\n",
       "2015-12-31    1104.0\n",
       "2016-12-31    1233.0\n",
       "2017-12-31    1275.0\n",
       "2018-12-31    1378.0\n",
       "Name: Inbound: Arrivals - Thousands (TF), dtype: float64"
      ]
     },
     "execution_count": 21,
     "metadata": {},
     "output_type": "execute_result"
    }
   ],
   "source": [
    "data['Inbound: Arrivals - Thousands (TF)']"
   ]
  },
  {
   "cell_type": "code",
   "execution_count": 27,
   "metadata": {},
   "outputs": [
    {
     "data": {
      "text/plain": [
       "(array([3., 3., 5., 3., 2., 1., 1., 3., 1., 2.]),\n",
       " array([ 285. ,  394.3,  503.6,  612.9,  722.2,  831.5,  940.8, 1050.1,\n",
       "        1159.4, 1268.7, 1378. ]),\n",
       " <a list of 10 Patch objects>)"
      ]
     },
     "execution_count": 27,
     "metadata": {},
     "output_type": "execute_result"
    },
    {
     "data": {
      "image/png": "[encoded data removed]",
      "text/plain": [
       "<Figure size 432x288 with 1 Axes>"
      ]
     },
     "metadata": {
      "needs_background": "light"
     },
     "output_type": "display_data"
    }
   ],
   "source": [
    "plt.hist(data['Inbound: Arrivals - Thousands (TF)'])"
   ]
  },
  {
   "cell_type": "code",
   "execution_count": null,
   "metadata": {},
   "outputs": [],
   "source": []
  }
 ],
 "metadata": {
  "kernelspec": {
   "display_name": "Python 3",
   "language": "python",
   "name": "python3"
  },
  "language_info": {
   "codemirror_mode": {
    "name": "ipython",
    "version": 3
   },
   "file_extension": ".py",
   "mimetype": "text/x-python",
   "name": "python",
   "nbconvert_exporter": "python",
   "pygments_lexer": "ipython3",
   "version": "3.8.3"
  }
 },
 "nbformat": 4,
 "nbformat_minor": 4
}
